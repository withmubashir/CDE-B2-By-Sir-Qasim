{
 "cells": [
  {
   "cell_type": "markdown",
   "id": "12c15a6c",
   "metadata": {},
   "source": [
    "### Conditional Statements"
   ]
  },
  {
   "cell_type": "raw",
   "id": "9902b48f",
   "metadata": {},
   "source": [
    "if <condition>:\n",
    "    <Body of IF>\n",
    "<outside of IF>"
   ]
  },
  {
   "cell_type": "code",
   "execution_count": 8,
   "id": "7b3d4c86",
   "metadata": {},
   "outputs": [],
   "source": [
    "is_ramadan = True"
   ]
  },
  {
   "cell_type": "code",
   "execution_count": 12,
   "id": "f564fdc6",
   "metadata": {},
   "outputs": [
    {
     "name": "stdout",
     "output_type": "stream",
     "text": [
      "if condition starts...\n",
      "Timings: 10:00am to 1:00pm\n",
      "if condition ends: all ok..\n"
     ]
    }
   ],
   "source": [
    "print(\"if condition starts...\")\n",
    "\n",
    "if is_ramadan:\n",
    "    print(\"Timings: 10:00am to 1:00pm\")\n",
    "else:\n",
    "    print(\"Timings: 06:00pmto 09:00pm\")\n",
    "    \n",
    "print(\"if condition ends: all ok..\")"
   ]
  },
  {
   "cell_type": "code",
   "execution_count": 18,
   "id": "d1d0a19b",
   "metadata": {},
   "outputs": [
    {
     "name": "stdout",
     "output_type": "stream",
     "text": [
      "No, You are under age for CNIC\n"
     ]
    }
   ],
   "source": [
    "# Write a program that tells are you eligible for applying for CNIC?\n",
    "\n",
    "age = 17\n",
    "\n",
    "if age > 18:\n",
    "    print(\"Yes, you can apply for CNIC\")   \n",
    "else:\n",
    "    print(\"No, You are under age for CNIC\")   "
   ]
  },
  {
   "cell_type": "markdown",
   "id": "a605c7fd",
   "metadata": {},
   "source": [
    "A school has following rules for grading system:\n",
    "    \n",
    "a. Below 25 - F\n",
    "\n",
    "b. 25 to 45 - E\n",
    "\n",
    "c. 45 to 50 - D\n",
    "\n",
    "d. 50 to 60 - C\n",
    "\n",
    "e. 60 to 80 - B\n",
    "\n",
    "f. Above 80 - A\n",
    "\n",
    "Ask user to enter marks and print the corresponding grade."
   ]
  },
  {
   "cell_type": "code",
   "execution_count": 36,
   "id": "77dbb70a",
   "metadata": {},
   "outputs": [
    {
     "name": "stdout",
     "output_type": "stream",
     "text": [
      "Enter your Marks: 65\n",
      "Grade B\n"
     ]
    }
   ],
   "source": [
    "marks = int(input(\"Enter your Marks: \"))\n",
    "\n",
    "if marks> 80 and marks <= 100:\n",
    "    print(\"Grade A\")\n",
    "elif marks > 60 and marks <= 80:\n",
    "    print(\"Grade B\")\n",
    "elif marks > 50 and marks <= 60:\n",
    "    print(\"Grade C\")\n",
    "elif marks > 45 and marks <= 50:\n",
    "    print(\"Grade D\")\n",
    "elif marks > 25 and marks <=45:\n",
    "    print(\"Grade E\")\n",
    "elif marks > 0 and marks <=25:\n",
    "    print('Grade F')\n",
    "else: \n",
    "    print('Invalid Input')"
   ]
  },
  {
   "cell_type": "code",
   "execution_count": 38,
   "id": "ed152247",
   "metadata": {},
   "outputs": [
    {
     "name": "stdout",
     "output_type": "stream",
     "text": [
      "Enter your marks: 56\n"
     ]
    },
    {
     "data": {
      "text/plain": [
       "str"
      ]
     },
     "execution_count": 38,
     "metadata": {},
     "output_type": "execute_result"
    }
   ],
   "source": [
    "marks = int(input(\"Enter your marks: \"))\n",
    "\n",
    "type(marks)"
   ]
  },
  {
   "cell_type": "code",
   "execution_count": 42,
   "id": "673b3ceb",
   "metadata": {},
   "outputs": [
    {
     "data": {
      "text/plain": [
       "True"
      ]
     },
     "execution_count": 42,
     "metadata": {},
     "output_type": "execute_result"
    }
   ],
   "source": [
    "65 > 56"
   ]
  },
  {
   "cell_type": "markdown",
   "id": "2d9db320",
   "metadata": {},
   "source": [
    "Ask user to enter age, gender ( M or F ), marital status ( Y or N ) and then using following rules print their place of service.\n",
    "\n",
    "- if employee is female, then she will work only in urban areas.\n",
    "\n",
    "- if employee is a male and age is in between 20 to 40 then he may work in anywhere\n",
    "\n",
    "- if employee is male and age is in between 40 t0 60 then he will work in urban areas only.\n",
    "\n",
    "And any other input of age should print \"ERROR\""
   ]
  },
  {
   "cell_type": "code",
   "execution_count": 47,
   "id": "5f40ce5c",
   "metadata": {},
   "outputs": [
    {
     "name": "stdout",
     "output_type": "stream",
     "text": [
      "Enter your age: 45\n",
      "What's your gender (M/F): M\n",
      "Can work in urban areas only.\n"
     ]
    }
   ],
   "source": [
    "age = int(input(\"Enter your age: \"))\n",
    "gender = input(\"What's your gender (M/F): \")\n",
    "# marital_status = input(\"Enter your marital status (Y/N): \")\n",
    "\n",
    "if gender == \"F\":\n",
    "    print(\"Will work only in urban areas.\")\n",
    "elif (gender == \"M\") and (age >=  20 and age <40):\n",
    "    print(\"Can work anywhere\")\n",
    "elif (gender == \"M\") and (age >= 40 and age <60):\n",
    "    print(\"Can work in urban areas only.\")\n",
    "else:\n",
    "    print(\"ERROR\")"
   ]
  },
  {
   "cell_type": "markdown",
   "id": "db94c539",
   "metadata": {},
   "source": [
    "### Nested Conditional Statements"
   ]
  },
  {
   "cell_type": "code",
   "execution_count": null,
   "id": "15576ec6",
   "metadata": {},
   "outputs": [],
   "source": [
    "age = int(input(\"Enter your age: \"))\n",
    "gender = input(\"What's your gender (M/F): \")\n",
    "marital_status = input(\"Enter your marital status (Y/N): \")\n",
    "\n",
    "if gender == \"F\":\n",
    "    if marital_status == \"Y\":\n",
    "        print(\"You can only work in Urban Areas\")\n",
    "\n",
    "elif gender == \"M\":\n",
    "    if age <= 40 and age >= 20 :\n",
    "        print(\"you may work anywhere\")\n",
    "\n",
    "else:\n",
    "    print(\"Error!\")"
   ]
  },
  {
   "cell_type": "markdown",
   "id": "77fdd686",
   "metadata": {},
   "source": [
    "### Comparsion Operators"
   ]
  },
  {
   "cell_type": "code",
   "execution_count": 3,
   "id": "0300b12f",
   "metadata": {},
   "outputs": [
    {
     "data": {
      "text/plain": [
       "True"
      ]
     },
     "execution_count": 3,
     "metadata": {},
     "output_type": "execute_result"
    }
   ],
   "source": [
    "45 != 54"
   ]
  },
  {
   "attachments": {
    "image.png": {
     "image/png": "[encoded data removed]"
    }
   },
   "cell_type": "markdown",
   "id": "70c70f80",
   "metadata": {},
   "source": [
    "- condition1 or condition2 (**any one** condition should be TRUE) - eg: freshness\n",
    "- condition1 and  condition2 ( **both** coniditons shpulf be TRUE) - eg: all vegetables\n",
    "![image.png](attachment:image.png)"
   ]
  },
  {
   "cell_type": "code",
   "execution_count": 4,
   "id": "8509be78",
   "metadata": {},
   "outputs": [
    {
     "data": {
      "text/plain": [
       "True"
      ]
     },
     "execution_count": 4,
     "metadata": {},
     "output_type": "execute_result"
    }
   ],
   "source": [
    "True or False"
   ]
  },
  {
   "cell_type": "code",
   "execution_count": 5,
   "id": "099b25e3",
   "metadata": {},
   "outputs": [
    {
     "data": {
      "text/plain": [
       "False"
      ]
     },
     "execution_count": 5,
     "metadata": {},
     "output_type": "execute_result"
    }
   ],
   "source": [
    "True and False"
   ]
  },
  {
   "cell_type": "code",
   "execution_count": 7,
   "id": "5f718ae9",
   "metadata": {},
   "outputs": [
    {
     "name": "stdout",
     "output_type": "stream",
     "text": [
      "Saylani Class\n"
     ]
    }
   ],
   "source": [
    "\"\"\"\n",
    "EXAMPLE OF MULTI LINE COMMENT\n",
    "-----------------------------\n",
    "Python Class\n",
    "10am to 1pm\n",
    "CDE\n",
    "\"\"\"\n",
    "print(\"Saylani Class\")"
   ]
  },
  {
   "cell_type": "markdown",
   "id": "0d8fc25e",
   "metadata": {},
   "source": [
    "### Lists"
   ]
  },
  {
   "cell_type": "code",
   "execution_count": null,
   "id": "893c8c71",
   "metadata": {},
   "outputs": [],
   "source": [
    "country1 = \"Pakistan\"\n",
    "country2 = \"China\"\n",
    "country3 = \"Afghanistan\"\n",
    "# ..."
   ]
  },
  {
   "cell_type": "code",
   "execution_count": 8,
   "id": "4cfc6363",
   "metadata": {},
   "outputs": [],
   "source": [
    "countries = [\n",
    "    \"Pakistan\",\n",
    "    \"China\",\n",
    "    \"Afghanistan\"\n",
    "]"
   ]
  },
  {
   "cell_type": "code",
   "execution_count": 9,
   "id": "b8a604cc",
   "metadata": {},
   "outputs": [
    {
     "data": {
      "text/plain": [
       "['Pakistan', 'China', 'Afghanistan']"
      ]
     },
     "execution_count": 9,
     "metadata": {},
     "output_type": "execute_result"
    }
   ],
   "source": [
    "countries"
   ]
  },
  {
   "cell_type": "code",
   "execution_count": 10,
   "id": "8ead57a9",
   "metadata": {},
   "outputs": [
    {
     "data": {
      "text/plain": [
       "list"
      ]
     },
     "execution_count": 10,
     "metadata": {},
     "output_type": "execute_result"
    }
   ],
   "source": [
    "type(countries)"
   ]
  },
  {
   "cell_type": "code",
   "execution_count": 11,
   "id": "e921549f",
   "metadata": {},
   "outputs": [
    {
     "data": {
      "text/plain": [
       "'Pakistan'"
      ]
     },
     "execution_count": 11,
     "metadata": {},
     "output_type": "execute_result"
    }
   ],
   "source": [
    "countries[0] # extracting value"
   ]
  },
  {
   "cell_type": "markdown",
   "id": "17979e45",
   "metadata": {},
   "source": [
    "### Lists: Adding and changing elements"
   ]
  },
  {
   "cell_type": "code",
   "execution_count": 13,
   "id": "9857d012",
   "metadata": {},
   "outputs": [],
   "source": [
    "countries.append(\"India\")"
   ]
  },
  {
   "cell_type": "code",
   "execution_count": 15,
   "id": "da408ff8",
   "metadata": {},
   "outputs": [
    {
     "data": {
      "text/plain": [
       "['Pakistan', 'China', 'Afghanistan', 'India']"
      ]
     },
     "execution_count": 15,
     "metadata": {},
     "output_type": "execute_result"
    }
   ],
   "source": [
    "countries"
   ]
  },
  {
   "cell_type": "code",
   "execution_count": 16,
   "id": "73798903",
   "metadata": {},
   "outputs": [],
   "source": [
    "countries.insert(0, \"South Korea\")"
   ]
  },
  {
   "cell_type": "code",
   "execution_count": 17,
   "id": "d206eb9a",
   "metadata": {},
   "outputs": [
    {
     "data": {
      "text/plain": [
       "['South Korea', 'Pakistan', 'China', 'Afghanistan', 'India']"
      ]
     },
     "execution_count": 17,
     "metadata": {},
     "output_type": "execute_result"
    }
   ],
   "source": [
    "countries"
   ]
  },
  {
   "cell_type": "code",
   "execution_count": 19,
   "id": "81267942",
   "metadata": {},
   "outputs": [],
   "source": [
    "countries[2] = 'Italy'"
   ]
  },
  {
   "cell_type": "code",
   "execution_count": 20,
   "id": "0c5696c7",
   "metadata": {},
   "outputs": [
    {
     "data": {
      "text/plain": [
       "['South Korea', 'Pakistan', 'Italy', 'Afghanistan', 'India']"
      ]
     },
     "execution_count": 20,
     "metadata": {},
     "output_type": "execute_result"
    }
   ],
   "source": [
    "countries"
   ]
  },
  {
   "cell_type": "markdown",
   "id": "ca0411c6",
   "metadata": {},
   "source": [
    "##### Lists: Taking slices out of them\n",
    "- countries[start:end+1]\n",
    "\n",
    "NOTE: index always starts from **0**"
   ]
  },
  {
   "cell_type": "code",
   "execution_count": 27,
   "id": "16774736",
   "metadata": {},
   "outputs": [],
   "source": [
    "#     0             1          2         3             4\n",
    "# ['South Korea', 'Pakistan', 'Italy', 'Afghanistan', 'India']\n",
    "#  -5           -4          -3         -2             -1"
   ]
  },
  {
   "cell_type": "code",
   "execution_count": 22,
   "id": "39e33710",
   "metadata": {},
   "outputs": [
    {
     "data": {
      "text/plain": [
       "['Pakistan', 'Italy', 'Afghanistan']"
      ]
     },
     "execution_count": 22,
     "metadata": {},
     "output_type": "execute_result"
    }
   ],
   "source": [
    "countries[1:4]"
   ]
  },
  {
   "cell_type": "code",
   "execution_count": 24,
   "id": "e243f67e",
   "metadata": {},
   "outputs": [
    {
     "data": {
      "text/plain": [
       "['South Korea', 'Pakistan', 'Italy']"
      ]
     },
     "execution_count": 24,
     "metadata": {},
     "output_type": "execute_result"
    }
   ],
   "source": [
    "countries[:3]"
   ]
  },
  {
   "cell_type": "code",
   "execution_count": 25,
   "id": "93cb698c",
   "metadata": {},
   "outputs": [
    {
     "data": {
      "text/plain": [
       "['Pakistan', 'Italy', 'Afghanistan', 'India']"
      ]
     },
     "execution_count": 25,
     "metadata": {},
     "output_type": "execute_result"
    }
   ],
   "source": [
    "countries[1:]"
   ]
  },
  {
   "cell_type": "code",
   "execution_count": 29,
   "id": "35856a7d",
   "metadata": {},
   "outputs": [
    {
     "data": {
      "text/plain": [
       "['Pakistan', 'Italy', 'Afghanistan']"
      ]
     },
     "execution_count": 29,
     "metadata": {},
     "output_type": "execute_result"
    }
   ],
   "source": [
    "countries[-4:-1]"
   ]
  },
  {
   "cell_type": "code",
   "execution_count": 30,
   "id": "d97b0d2a",
   "metadata": {},
   "outputs": [
    {
     "data": {
      "text/plain": [
       "['South Korea', 'Pakistan', 'Italy']"
      ]
     },
     "execution_count": 30,
     "metadata": {},
     "output_type": "execute_result"
    }
   ],
   "source": [
    "countries[:-2]"
   ]
  },
  {
   "cell_type": "code",
   "execution_count": 31,
   "id": "a5995452",
   "metadata": {},
   "outputs": [
    {
     "data": {
      "text/plain": [
       "['Pakistan', 'Italy', 'Afghanistan', 'India']"
      ]
     },
     "execution_count": 31,
     "metadata": {},
     "output_type": "execute_result"
    }
   ],
   "source": [
    "countries[-4:]"
   ]
  },
  {
   "cell_type": "markdown",
   "id": "163713ed",
   "metadata": {},
   "source": [
    "### Lists: Deleting and removing elements"
   ]
  },
  {
   "cell_type": "code",
   "execution_count": 33,
   "id": "e1283dee",
   "metadata": {},
   "outputs": [],
   "source": [
    "del countries[0]"
   ]
  },
  {
   "cell_type": "code",
   "execution_count": 34,
   "id": "d65915b1",
   "metadata": {},
   "outputs": [
    {
     "data": {
      "text/plain": [
       "['Pakistan', 'Italy', 'Afghanistan', 'India']"
      ]
     },
     "execution_count": 34,
     "metadata": {},
     "output_type": "execute_result"
    }
   ],
   "source": [
    "countries"
   ]
  },
  {
   "cell_type": "code",
   "execution_count": 35,
   "id": "107d68d0",
   "metadata": {},
   "outputs": [],
   "source": [
    "countries.remove('India')"
   ]
  },
  {
   "cell_type": "markdown",
   "id": "3cb0a124",
   "metadata": {},
   "source": [
    "### Lists: popping elements"
   ]
  },
  {
   "cell_type": "code",
   "execution_count": 37,
   "id": "6941c358",
   "metadata": {},
   "outputs": [],
   "source": [
    "country = countries.pop(1)"
   ]
  },
  {
   "cell_type": "code",
   "execution_count": 38,
   "id": "35ac2082",
   "metadata": {},
   "outputs": [
    {
     "data": {
      "text/plain": [
       "'Italy'"
      ]
     },
     "execution_count": 38,
     "metadata": {},
     "output_type": "execute_result"
    }
   ],
   "source": [
    "country"
   ]
  },
  {
   "cell_type": "code",
   "execution_count": 39,
   "id": "e3d0ccbd",
   "metadata": {},
   "outputs": [
    {
     "data": {
      "text/plain": [
       "['Pakistan', 'Afghanistan']"
      ]
     },
     "execution_count": 39,
     "metadata": {},
     "output_type": "execute_result"
    }
   ],
   "source": [
    "countries"
   ]
  },
  {
   "cell_type": "code",
   "execution_count": null,
   "id": "c51a538c",
   "metadata": {},
   "outputs": [],
   "source": []
  }
 ],
 "metadata": {
  "kernelspec": {
   "display_name": "Python 3 (ipykernel)",
   "language": "python",
   "name": "python3"
  },
  "language_info": {
   "codemirror_mode": {
    "name": "ipython",
    "version": 3
   },
   "file_extension": ".py",
   "mimetype": "text/x-python",
   "name": "python",
   "nbconvert_exporter": "python",
   "pygments_lexer": "ipython3",
   "version": "3.11.5"
  }
 },
 "nbformat": 4,
 "nbformat_minor": 5
}
