{
 "cells": [
  {
   "cell_type": "markdown",
   "id": "449d8f14-c941-43da-b744-ad813f18dd31",
   "metadata": {},
   "source": [
    "#### SHORTCUTS of JUPYTER NOTEBOOK\n",
    "1. SHIFT + ENTER ==> Cell Execute\n",
    "2. ESC + A ==> Create cell above\n",
    "3. ESC + B ==> Create cell below\n",
    "4. ESC + M ==> convert cell to markdown\n",
    "5. \"#\" is ==> used for headings in markdown\n",
    "6. ESC + DD ==> Delete the cell on which you are atm\n",
    "7. ESC + R ==> Convert cell to raw(plain text)\n",
    "8. ESC + Y ===> Convert cell back to \"code\"\n",
    "\n",
    "##### CTRL + SHIFT + H ( To get all shorcuts commands of Jupyter )"
   ]
  },
  {
   "cell_type": "code",
   "execution_count": 6,
   "id": "8c79ef42-a036-4551-9271-167fe836e3fa",
   "metadata": {},
   "outputs": [
    {
     "name": "stdout",
     "output_type": "stream",
     "text": [
      "Cloud Data Engineering Batch-2\n"
     ]
    }
   ],
   "source": [
    "print(\"Cloud Data Engineering Batch-2\")"
   ]
  },
  {
   "cell_type": "markdown",
   "id": "d6cb31c7-1f75-46b0-9e4a-2ee33378a4b7",
   "metadata": {},
   "source": [
    "### Variables\n",
    "- Variable `name` can't start with number\n",
    "- Variaable name can't have `spaces`\n",
    "- Can use `underscore \"_\"` instad of spaces\n",
    "- Can't use any character expect \"_\"\n",
    "- Use precise(meaningful) and valid names\n",
    "\n",
    "NOTE: Can't use the `reserve words` for variable name"
   ]
  },
  {
   "cell_type": "code",
   "execution_count": 45,
   "id": "970eaf68-543d-4075-b818-bd68856fb994",
   "metadata": {},
   "outputs": [
    {
     "ename": "SyntaxError",
     "evalue": "invalid syntax (3255667554.py, line 1)",
     "output_type": "error",
     "traceback": [
      "\u001b[1;36m  Cell \u001b[1;32mIn[45], line 1\u001b[1;36m\u001b[0m\n\u001b[1;33m    for = \"\"\u001b[0m\n\u001b[1;37m        ^\u001b[0m\n\u001b[1;31mSyntaxError\u001b[0m\u001b[1;31m:\u001b[0m invalid syntax\n"
     ]
    }
   ],
   "source": [
    "for = \"\""
   ]
  },
  {
   "cell_type": "code",
   "execution_count": 46,
   "id": "9b257e92-4962-42cf-8d80-3ddf6164edb8",
   "metadata": {},
   "outputs": [],
   "source": [
    "print = \"checking again\""
   ]
  },
  {
   "cell_type": "code",
   "execution_count": 47,
   "id": "40309899-602d-4dc8-80a9-7ba38f9cc938",
   "metadata": {},
   "outputs": [
    {
     "data": {
      "text/plain": [
       "'checking again'"
      ]
     },
     "execution_count": 47,
     "metadata": {},
     "output_type": "execute_result"
    }
   ],
   "source": [
    "print"
   ]
  },
  {
   "cell_type": "code",
   "execution_count": 48,
   "id": "8b396fb4-87a3-42fb-b868-416f456b42e4",
   "metadata": {},
   "outputs": [],
   "source": [
    "guy_who_keeps_saying_his_own_name = \"Mark\" # bad practise"
   ]
  },
  {
   "cell_type": "code",
   "execution_count": 17,
   "id": "e78ee3d9-88c6-4a56-8287-d120d9a52f35",
   "metadata": {},
   "outputs": [],
   "source": [
    "name = \"Qasim Hassan\" # string variable declare\n",
    "age = 20 # integer type variable declare\n",
    "weight = 40.5 # floating type variable declare\n",
    "is_present = True #boolean type variavle declare"
   ]
  },
  {
   "cell_type": "code",
   "execution_count": 16,
   "id": "3561686a-3035-4d63-8549-5dcac4b739ce",
   "metadata": {},
   "outputs": [
    {
     "name": "stdout",
     "output_type": "stream",
     "text": [
      "Qasim Hassan\n",
      "<class 'str'>\n",
      "-----------\n",
      "20\n",
      "<class 'int'>\n",
      "-----------\n",
      "40.5\n",
      "<class 'float'>\n"
     ]
    }
   ],
   "source": [
    "print(name)\n",
    "print(type(name))\n",
    "print('-----------')\n",
    "print(age)\n",
    "print(type(age))\n",
    "print('-----------')\n",
    "print(weight)\n",
    "print(type(weight))\n",
    "print('-----------')\n",
    "print(is_present)\n",
    "print(type(is_present))"
   ]
  },
  {
   "cell_type": "code",
   "execution_count": 28,
   "id": "77470639-999f-4a35-947c-67593fff2984",
   "metadata": {},
   "outputs": [],
   "source": [
    "age += 4"
   ]
  },
  {
   "cell_type": "code",
   "execution_count": 29,
   "id": "6809c3b2-1ea3-4409-b420-c9b5b27cc661",
   "metadata": {},
   "outputs": [
    {
     "data": {
      "text/plain": [
       "24"
      ]
     },
     "execution_count": 29,
     "metadata": {},
     "output_type": "execute_result"
    }
   ],
   "source": [
    "age"
   ]
  },
  {
   "cell_type": "code",
   "execution_count": 30,
   "id": "242cda18-ad7b-4dac-a539-6aae3d7be1ed",
   "metadata": {},
   "outputs": [],
   "source": [
    "value_subtract = 5"
   ]
  },
  {
   "cell_type": "code",
   "execution_count": 32,
   "id": "d248c120-5bcf-4988-b6ea-f9b94fc79a87",
   "metadata": {},
   "outputs": [],
   "source": [
    "age -= value_subtract"
   ]
  },
  {
   "cell_type": "code",
   "execution_count": 33,
   "id": "ca1bc046-e1b9-42ee-afb6-3112ad601544",
   "metadata": {},
   "outputs": [
    {
     "data": {
      "text/plain": [
       "19"
      ]
     },
     "execution_count": 33,
     "metadata": {},
     "output_type": "execute_result"
    }
   ],
   "source": [
    "age"
   ]
  },
  {
   "cell_type": "code",
   "execution_count": 34,
   "id": "1374b095-fef9-4a1a-9a61-caf9d7493657",
   "metadata": {},
   "outputs": [
    {
     "ename": "TypeError",
     "evalue": "unsupported operand type(s) for +: 'int' and 'str'",
     "output_type": "error",
     "traceback": [
      "\u001b[1;31m---------------------------------------------------------------------------\u001b[0m",
      "\u001b[1;31mTypeError\u001b[0m                                 Traceback (most recent call last)",
      "Cell \u001b[1;32mIn[34], line 1\u001b[0m\n\u001b[1;32m----> 1\u001b[0m \u001b[38;5;241;43m19\u001b[39;49m\u001b[43m \u001b[49m\u001b[38;5;241;43m+\u001b[39;49m\u001b[43m \u001b[49m\u001b[38;5;124;43m\"\u001b[39;49m\u001b[38;5;124;43m1\u001b[39;49m\u001b[38;5;124;43m\"\u001b[39;49m\n",
      "\u001b[1;31mTypeError\u001b[0m: unsupported operand type(s) for +: 'int' and 'str'"
     ]
    }
   ],
   "source": [
    "19 + \"1\""
   ]
  },
  {
   "cell_type": "code",
   "execution_count": 37,
   "id": "18ba22b4-1ca4-4947-aeb7-5914bb4c1d42",
   "metadata": {},
   "outputs": [
    {
     "data": {
      "text/plain": [
       "20"
      ]
     },
     "execution_count": 37,
     "metadata": {},
     "output_type": "execute_result"
    }
   ],
   "source": [
    "19 + int(\"1\") # typecate"
   ]
  },
  {
   "cell_type": "markdown",
   "id": "b615e427-5457-4003-9c7e-5d09836b1f2c",
   "metadata": {},
   "source": [
    "### Math expressions: Familiar operators"
   ]
  },
  {
   "cell_type": "code",
   "execution_count": 38,
   "id": "f4ae3e73-b6a8-4a2d-84bf-f6f4fb16c580",
   "metadata": {},
   "outputs": [
    {
     "data": {
      "text/plain": [
       "8"
      ]
     },
     "execution_count": 38,
     "metadata": {},
     "output_type": "execute_result"
    }
   ],
   "source": [
    "3+5"
   ]
  },
  {
   "cell_type": "code",
   "execution_count": 39,
   "id": "d5160300-01d4-42b1-8d76-a919b1bde910",
   "metadata": {},
   "outputs": [
    {
     "data": {
      "text/plain": [
       "3"
      ]
     },
     "execution_count": 39,
     "metadata": {},
     "output_type": "execute_result"
    }
   ],
   "source": [
    "5-2"
   ]
  },
  {
   "cell_type": "code",
   "execution_count": 40,
   "id": "eeb4e548-75cc-494b-8d31-244e4e1601f0",
   "metadata": {},
   "outputs": [
    {
     "data": {
      "text/plain": [
       "20"
      ]
     },
     "execution_count": 40,
     "metadata": {},
     "output_type": "execute_result"
    }
   ],
   "source": [
    "5*4"
   ]
  },
  {
   "cell_type": "code",
   "execution_count": 41,
   "id": "a1878a83-1c28-4e86-a017-c074a2cd95cd",
   "metadata": {},
   "outputs": [
    {
     "data": {
      "text/plain": [
       "4.0"
      ]
     },
     "execution_count": 41,
     "metadata": {},
     "output_type": "execute_result"
    }
   ],
   "source": [
    "20/5 # on dividiing answer is always in flaot"
   ]
  },
  {
   "cell_type": "code",
   "execution_count": 42,
   "id": "a7f80925-d86b-4c49-9fcc-c9e73a0ad549",
   "metadata": {},
   "outputs": [
    {
     "data": {
      "text/plain": [
       "4"
      ]
     },
     "execution_count": 42,
     "metadata": {},
     "output_type": "execute_result"
    }
   ],
   "source": [
    "int(20/5)"
   ]
  },
  {
   "cell_type": "markdown",
   "id": "1970d769-e435-4cdf-8c7c-9f314f6f8d86",
   "metadata": {},
   "source": [
    "### Math expressions: Unfamiliar operators"
   ]
  },
  {
   "cell_type": "code",
   "execution_count": 51,
   "id": "4fd11445-8982-432c-af1a-d6263dda1c1a",
   "metadata": {},
   "outputs": [
    {
     "data": {
      "text/plain": [
       "1"
      ]
     },
     "execution_count": 51,
     "metadata": {},
     "output_type": "execute_result"
    }
   ],
   "source": [
    "7%3 #remainder operator"
   ]
  },
  {
   "cell_type": "code",
   "execution_count": 53,
   "id": "cedb617b-80aa-44cd-9ba3-ad397f2c2d1f",
   "metadata": {},
   "outputs": [],
   "source": [
    "age+=1 # -=, *=, /="
   ]
  },
  {
   "cell_type": "code",
   "execution_count": 55,
   "id": "7d99a865-a14b-4069-b1f0-034020288bdd",
   "metadata": {},
   "outputs": [],
   "source": [
    "age /=4"
   ]
  },
  {
   "cell_type": "code",
   "execution_count": 56,
   "id": "a96aab09-d5fb-4ac2-8bca-4ed2a225f863",
   "metadata": {},
   "outputs": [
    {
     "data": {
      "text/plain": [
       "5.0"
      ]
     },
     "execution_count": 56,
     "metadata": {},
     "output_type": "execute_result"
    }
   ],
   "source": [
    "age"
   ]
  },
  {
   "cell_type": "code",
   "execution_count": 57,
   "id": "d3eb495f-d902-4423-a901-5cce81982b14",
   "metadata": {},
   "outputs": [
    {
     "data": {
      "text/plain": [
       "8"
      ]
     },
     "execution_count": 57,
     "metadata": {},
     "output_type": "execute_result"
    }
   ],
   "source": [
    "2**3 #power"
   ]
  },
  {
   "cell_type": "markdown",
   "id": "b59b9b23-d352-47b2-8755-d41bf38d80ee",
   "metadata": {},
   "source": [
    "### Math expressions: Eliminating ambiguity (PEMDAS)"
   ]
  },
  {
   "cell_type": "code",
   "execution_count": 58,
   "id": "568a8e96-566f-4cc6-afd0-c09f1b8af313",
   "metadata": {},
   "outputs": [
    {
     "data": {
      "text/plain": [
       "13"
      ]
     },
     "execution_count": 58,
     "metadata": {},
     "output_type": "execute_result"
    }
   ],
   "source": [
    "1 + 3 * 4"
   ]
  },
  {
   "cell_type": "code",
   "execution_count": 59,
   "id": "d0143466-00c1-4d43-b99e-83eebf23e9fc",
   "metadata": {},
   "outputs": [
    {
     "data": {
      "text/plain": [
       "16"
      ]
     },
     "execution_count": 59,
     "metadata": {},
     "output_type": "execute_result"
    }
   ],
   "source": [
    "(1 + 3) * 4"
   ]
  },
  {
   "cell_type": "code",
   "execution_count": 60,
   "id": "3abe84c0-8ed4-4027-932c-aab673264551",
   "metadata": {},
   "outputs": [
    {
     "data": {
      "text/plain": [
       "34"
      ]
     },
     "execution_count": 60,
     "metadata": {},
     "output_type": "execute_result"
    }
   ],
   "source": [
    "(2 * 4) * 4 + 2"
   ]
  },
  {
   "cell_type": "markdown",
   "id": "ba136257-32bb-495f-9feb-b1e54af976ef",
   "metadata": {},
   "source": [
    "### Concatenating text strings"
   ]
  },
  {
   "cell_type": "code",
   "execution_count": 61,
   "id": "2d82d641-3499-41df-af97-6f73529bb773",
   "metadata": {},
   "outputs": [],
   "source": [
    "fist_name = \"Qasim\""
   ]
  },
  {
   "cell_type": "code",
   "execution_count": 62,
   "id": "7e87118b-908b-4e56-8c5b-4d8f1194179a",
   "metadata": {},
   "outputs": [],
   "source": [
    "last_name = \"Hassan\""
   ]
  },
  {
   "cell_type": "code",
   "execution_count": 64,
   "id": "d1d54bf3-16d5-4aae-9fd7-14dd95d0e77b",
   "metadata": {},
   "outputs": [
    {
     "data": {
      "text/plain": [
       "'Qasim Hassan'"
      ]
     },
     "execution_count": 64,
     "metadata": {},
     "output_type": "execute_result"
    }
   ],
   "source": [
    "fist_name +\" \"+ last_name # METHIOD-1"
   ]
  },
  {
   "cell_type": "code",
   "execution_count": 67,
   "id": "e40987b2-1d0b-45f5-b5e7-44baafdea26c",
   "metadata": {},
   "outputs": [
    {
     "data": {
      "text/plain": [
       "'QasimHassan'"
      ]
     },
     "execution_count": 67,
     "metadata": {},
     "output_type": "execute_result"
    }
   ],
   "source": [
    "f'{fist_name} {last_name}' # METHOD-2"
   ]
  },
  {
   "cell_type": "code",
   "execution_count": 71,
   "id": "33d5d4ce-ed0e-48d1-82ce-6efe6ce47c5f",
   "metadata": {},
   "outputs": [
    {
     "data": {
      "text/plain": [
       "'Qasim Hassan'"
      ]
     },
     "execution_count": 71,
     "metadata": {},
     "output_type": "execute_result"
    }
   ],
   "source": [
    "\"{0} {1}\".format(fist_name, last_name) # METHOD-3"
   ]
  },
  {
   "cell_type": "code",
   "execution_count": null,
   "id": "d5f62917-74b3-44f5-8da1-f490db4864b8",
   "metadata": {},
   "outputs": [],
   "source": []
  }
 ],
 "metadata": {
  "kernelspec": {
   "display_name": "Python 3 (ipykernel)",
   "language": "python",
   "name": "python3"
  },
  "language_info": {
   "codemirror_mode": {
    "name": "ipython",
    "version": 3
   },
   "file_extension": ".py",
   "mimetype": "text/x-python",
   "name": "python",
   "nbconvert_exporter": "python",
   "pygments_lexer": "ipython3",
   "version": "3.12.7"
  }
 },
 "nbformat": 4,
 "nbformat_minor": 5
}
